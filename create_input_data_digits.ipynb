{
 "cells": [
  {
   "cell_type": "code",
   "execution_count": null,
   "metadata": {},
   "outputs": [],
   "source": [
    "## Input is a Pandas table of ax, ay, az, gx, gy, gz over time\n",
    "## Output is a np table of ax, ay, az, gx, gy, gz and selected features\n",
    "import numpy as np\n",
    "import pandas as pd\n",
    "from scipy import stats, fft, fftpack\n",
    "\n",
    "def pd_to_abt_np(dataframe):\n",
    "    '''\n",
    "    \n",
    "    '''\n",
    "    sensor_data = dataframe.to_numpy()\n",
    "    print(sensor_data.shape)\n",
    "    #want to see (# of samples,6)\n",
    "    \n",
    "    means = np.mean(sensor_data, axis=0)\n",
    "    ranges = np.ptp(sensor_data, axis = 0)\n",
    "    stds = np.std(sensor_data, axis=0)\n",
    "    moment_3 = stats.moment(sensor_data, moment=3, axis=0)\n",
    "    \n",
    "    dcts = fftpack.dct(sensor_data, axis=0)\n",
    "    sorted_dcts = np.sort(dcts, axis=0)\n",
    "    max_dcts = sorted_dcts[0]\n",
    "    second_max_dcts = sorted_dcts[1]\n",
    "    \n",
    "    ffts = fft(sensor_data, axis=0)\n",
    "    sorted_ffts = np.sort(ffts,axis=0)\n",
    "    max_ffts = sorted_ffts[0]\n",
    "    second_max_ffts = sorted_ffts[1]\n",
    "    \n",
    "    to_be_stacked = (means, ranges, stds, moment_3, max_dcts, second_max_dcts, \n",
    "                    max_ffts, second_max_ffts)\n",
    "    \n",
    "    abt_table = np.vstack(to_be_stacked)\n",
    "    \n",
    "    return abt_table\n",
    "    \n",
    "    \n",
    "    "
   ]
  },
  {
   "cell_type": "code",
   "execution_count": null,
   "metadata": {},
   "outputs": [],
   "source": [
    "#"
   ]
  }
 ],
 "metadata": {
  "kernelspec": {
   "display_name": "Python 3",
   "language": "python",
   "name": "python3"
  },
  "language_info": {
   "codemirror_mode": {
    "name": "ipython",
    "version": 3
   },
   "file_extension": ".py",
   "mimetype": "text/x-python",
   "name": "python",
   "nbconvert_exporter": "python",
   "pygments_lexer": "ipython3",
   "version": "3.6.9"
  }
 },
 "nbformat": 4,
 "nbformat_minor": 4
}
