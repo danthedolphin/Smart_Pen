{
 "cells": [
  {
   "cell_type": "code",
   "execution_count": 2,
   "metadata": {},
   "outputs": [],
   "source": [
    "import serial\n",
    "import time \n",
    "import numpy"
   ]
  },
  {
   "cell_type": "code",
   "execution_count": null,
   "metadata": {},
   "outputs": [],
   "source": [
    "port=\"/dev/tty.HC-06-DevB\" #CHANGE THIS: check \n",
    "bluetooth=serial.Serial(port, 9600)#Start communications with the bluetooth unit\n",
    "print(\"Connected\")\n",
    "bluetooth.flushInput() #This gives the bluetooth a little kick\n",
    "for i in range(5): #send 5 groups of data to the bluetooth\n",
    "\tprint(\"Ping\")\n",
    "\tbluetooth.write(b\"BOOP \"+str.encode(str(i)))#These need to be bytes not unicode, plus a number\n",
    "\tinput_data=bluetooth.readline()#This reads the incoming data. In this particular example it will be the \"Hello from Blue\" line\n",
    "\tprint(input_data.decode())#These are bytes coming in so a decode is needed\n",
    "\ttime.sleep(0.1) #A pause between bursts\n",
    "bluetooth.close() #Otherwise the connection will remain open until a timeout which ties up the /dev/thingamabob\n",
    "print(\"Done\")"
   ]
  }
 ],
 "metadata": {
  "kernelspec": {
   "display_name": "Python 3",
   "language": "python",
   "name": "python3"
  },
  "language_info": {
   "codemirror_mode": {
    "name": "ipython",
    "version": 3
   },
   "file_extension": ".py",
   "mimetype": "text/x-python",
   "name": "python",
   "nbconvert_exporter": "python",
   "pygments_lexer": "ipython3",
   "version": "3.6.10"
  }
 },
 "nbformat": 4,
 "nbformat_minor": 2
}
