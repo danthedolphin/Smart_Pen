{
 "cells": [
  {
   "cell_type": "code",
   "execution_count": null,
   "metadata": {},
   "outputs": [],
   "source": [
    "## Input is a Pandas table of ax, ay, az, gx, gy, gz over time\n",
    "## Output is a Pandas table of ax, ay, az, gx, gy, gz and selected features\n",
    "\n",
    "def pd_to_np(dataframe):\n",
    "    '''\n",
    "    \n",
    "    '''\n",
    "    raw_data_over_time = "
   ]
  }
 ],
 "metadata": {
  "kernelspec": {
   "display_name": "Python 3",
   "language": "python",
   "name": "python3"
  },
  "language_info": {
   "codemirror_mode": {
    "name": "ipython",
    "version": 3
   },
   "file_extension": ".py",
   "mimetype": "text/x-python",
   "name": "python",
   "nbconvert_exporter": "python",
   "pygments_lexer": "ipython3",
   "version": "3.6.9"
  }
 },
 "nbformat": 4,
 "nbformat_minor": 4
}
